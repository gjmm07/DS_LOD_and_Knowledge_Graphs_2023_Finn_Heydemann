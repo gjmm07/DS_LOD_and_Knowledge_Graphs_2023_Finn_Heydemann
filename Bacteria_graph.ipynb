{
 "cells": [
  {
   "cell_type": "code",
   "execution_count": 1,
   "id": "fad35e22-6e36-437a-b05d-f21d84a8c33d",
   "metadata": {
    "tags": []
   },
   "outputs": [],
   "source": [
    "import numpy as np\n",
    "import urllib.request\n",
    "import requests\n",
    "import urllib\n",
    "import requests\n",
    "import pandas as pd \n",
    "import os\n",
    "\n",
    "# LINKS: \n",
    "# https://www.ncbi.nlm.nih.gov/pathogens/antimicrobial-resistance/\n",
    "# https://github.com/ncbi/amr/wiki/AMRFinderPlus-database#availability\n",
    "# https://gitlab.com/ncbipy/entrezpy"
   ]
  },
  {
   "cell_type": "code",
   "execution_count": 2,
   "id": "c47b563d-f55c-4f75-87b1-2fbe24d75346",
   "metadata": {
    "tags": []
   },
   "outputs": [
    {
     "data": {
      "text/html": [
       "<div>\n",
       "<style scoped>\n",
       "    .dataframe tbody tr th:only-of-type {\n",
       "        vertical-align: middle;\n",
       "    }\n",
       "\n",
       "    .dataframe tbody tr th {\n",
       "        vertical-align: top;\n",
       "    }\n",
       "\n",
       "    .dataframe thead th {\n",
       "        text-align: right;\n",
       "    }\n",
       "</style>\n",
       "<table border=\"1\" class=\"dataframe\">\n",
       "  <thead>\n",
       "    <tr style=\"text-align: right;\">\n",
       "      <th></th>\n",
       "      <th>allele</th>\n",
       "      <th>gene_family</th>\n",
       "      <th>whitelisted_taxa</th>\n",
       "      <th>product_name</th>\n",
       "      <th>scope</th>\n",
       "      <th>type</th>\n",
       "      <th>subtype</th>\n",
       "      <th>class</th>\n",
       "      <th>subclass</th>\n",
       "      <th>refseq_protein_accession</th>\n",
       "      <th>...</th>\n",
       "      <th>genbank_start</th>\n",
       "      <th>genbank_stop</th>\n",
       "      <th>refseq_strand</th>\n",
       "      <th>refseq_start</th>\n",
       "      <th>refseq_stop</th>\n",
       "      <th>pubmed_reference</th>\n",
       "      <th>blacklisted_taxa</th>\n",
       "      <th>synonyms</th>\n",
       "      <th>hierarchy_node</th>\n",
       "      <th>db_version</th>\n",
       "    </tr>\n",
       "  </thead>\n",
       "  <tbody>\n",
       "    <tr>\n",
       "      <th>0</th>\n",
       "      <td>NaN</td>\n",
       "      <td>aac(2')-I(A267)</td>\n",
       "      <td>NaN</td>\n",
       "      <td>aminoglycoside N-acetyltransferase AAC(2')-I(A...</td>\n",
       "      <td>core</td>\n",
       "      <td>AMR</td>\n",
       "      <td>AMR</td>\n",
       "      <td>AMINOGLYCOSIDE</td>\n",
       "      <td>GENTAMICIN/TOBRAMYCIN</td>\n",
       "      <td>WP_025297907.1</td>\n",
       "      <td>...</td>\n",
       "      <td>7204881</td>\n",
       "      <td>7205417</td>\n",
       "      <td>+</td>\n",
       "      <td>101.0</td>\n",
       "      <td>637.0</td>\n",
       "      <td>NaN</td>\n",
       "      <td>NaN</td>\n",
       "      <td>NaN</td>\n",
       "      <td>aac(2')-I(A267)</td>\n",
       "      <td>2023-11-15.1</td>\n",
       "    </tr>\n",
       "    <tr>\n",
       "      <th>1</th>\n",
       "      <td>NaN</td>\n",
       "      <td>aac(2')-IIa</td>\n",
       "      <td>NaN</td>\n",
       "      <td>kasugamycin N-acetyltransferase AAC(2')-IIa</td>\n",
       "      <td>core</td>\n",
       "      <td>AMR</td>\n",
       "      <td>AMR</td>\n",
       "      <td>AMINOGLYCOSIDE</td>\n",
       "      <td>KASUGAMYCIN</td>\n",
       "      <td>WP_063839881.1</td>\n",
       "      <td>...</td>\n",
       "      <td>12439</td>\n",
       "      <td>13221</td>\n",
       "      <td>+</td>\n",
       "      <td>101.0</td>\n",
       "      <td>883.0</td>\n",
       "      <td>22660700</td>\n",
       "      <td>NaN</td>\n",
       "      <td>NaN</td>\n",
       "      <td>aac(2')-IIa</td>\n",
       "      <td>2023-11-15.1</td>\n",
       "    </tr>\n",
       "    <tr>\n",
       "      <th>2</th>\n",
       "      <td>NaN</td>\n",
       "      <td>aac(2')-IIb</td>\n",
       "      <td>NaN</td>\n",
       "      <td>kasugamycin N-acetyltransferase AAC(2')-IIb</td>\n",
       "      <td>core</td>\n",
       "      <td>AMR</td>\n",
       "      <td>AMR</td>\n",
       "      <td>AMINOGLYCOSIDE</td>\n",
       "      <td>KASUGAMYCIN</td>\n",
       "      <td>WP_071224044.1</td>\n",
       "      <td>...</td>\n",
       "      <td>1</td>\n",
       "      <td>723</td>\n",
       "      <td>+</td>\n",
       "      <td>1.0</td>\n",
       "      <td>723.0</td>\n",
       "      <td>27929110</td>\n",
       "      <td>NaN</td>\n",
       "      <td>NaN</td>\n",
       "      <td>aac(2')-IIb</td>\n",
       "      <td>2023-11-15.1</td>\n",
       "    </tr>\n",
       "    <tr>\n",
       "      <th>3</th>\n",
       "      <td>NaN</td>\n",
       "      <td>aac(2')-Ia</td>\n",
       "      <td>NaN</td>\n",
       "      <td>aminoglycoside N-acetyltransferase AAC(2')-Ia</td>\n",
       "      <td>core</td>\n",
       "      <td>AMR</td>\n",
       "      <td>AMR</td>\n",
       "      <td>AMINOGLYCOSIDE</td>\n",
       "      <td>GENTAMICIN/TOBRAMYCIN</td>\n",
       "      <td>WP_004918308.1</td>\n",
       "      <td>...</td>\n",
       "      <td>264</td>\n",
       "      <td>800</td>\n",
       "      <td>+</td>\n",
       "      <td>101.0</td>\n",
       "      <td>637.0</td>\n",
       "      <td>8407825</td>\n",
       "      <td>NaN</td>\n",
       "      <td>NaN</td>\n",
       "      <td>aac(2')-Ia</td>\n",
       "      <td>2023-11-15.1</td>\n",
       "    </tr>\n",
       "    <tr>\n",
       "      <th>4</th>\n",
       "      <td>NaN</td>\n",
       "      <td>aac(2')-Ib</td>\n",
       "      <td>NaN</td>\n",
       "      <td>aminoglycoside N-acetyltransferase AAC(2')-Ib</td>\n",
       "      <td>core</td>\n",
       "      <td>AMR</td>\n",
       "      <td>AMR</td>\n",
       "      <td>AMINOGLYCOSIDE</td>\n",
       "      <td>GENTAMICIN/TOBRAMYCIN</td>\n",
       "      <td>WP_003881640.1</td>\n",
       "      <td>...</td>\n",
       "      <td>265</td>\n",
       "      <td>852</td>\n",
       "      <td>+</td>\n",
       "      <td>101.0</td>\n",
       "      <td>688.0</td>\n",
       "      <td>8891143</td>\n",
       "      <td>NaN</td>\n",
       "      <td>NaN</td>\n",
       "      <td>aac(2')-Ib</td>\n",
       "      <td>2023-11-15.1</td>\n",
       "    </tr>\n",
       "  </tbody>\n",
       "</table>\n",
       "<p>5 rows × 25 columns</p>\n",
       "</div>"
      ],
      "text/plain": [
       "  allele      gene_family whitelisted_taxa  \\\n",
       "0    NaN  aac(2')-I(A267)              NaN   \n",
       "1    NaN      aac(2')-IIa              NaN   \n",
       "2    NaN      aac(2')-IIb              NaN   \n",
       "3    NaN       aac(2')-Ia              NaN   \n",
       "4    NaN       aac(2')-Ib              NaN   \n",
       "\n",
       "                                        product_name scope type subtype  \\\n",
       "0  aminoglycoside N-acetyltransferase AAC(2')-I(A...  core  AMR     AMR   \n",
       "1        kasugamycin N-acetyltransferase AAC(2')-IIa  core  AMR     AMR   \n",
       "2        kasugamycin N-acetyltransferase AAC(2')-IIb  core  AMR     AMR   \n",
       "3      aminoglycoside N-acetyltransferase AAC(2')-Ia  core  AMR     AMR   \n",
       "4      aminoglycoside N-acetyltransferase AAC(2')-Ib  core  AMR     AMR   \n",
       "\n",
       "            class               subclass refseq_protein_accession  ...  \\\n",
       "0  AMINOGLYCOSIDE  GENTAMICIN/TOBRAMYCIN           WP_025297907.1  ...   \n",
       "1  AMINOGLYCOSIDE            KASUGAMYCIN           WP_063839881.1  ...   \n",
       "2  AMINOGLYCOSIDE            KASUGAMYCIN           WP_071224044.1  ...   \n",
       "3  AMINOGLYCOSIDE  GENTAMICIN/TOBRAMYCIN           WP_004918308.1  ...   \n",
       "4  AMINOGLYCOSIDE  GENTAMICIN/TOBRAMYCIN           WP_003881640.1  ...   \n",
       "\n",
       "  genbank_start genbank_stop refseq_strand refseq_start refseq_stop  \\\n",
       "0       7204881      7205417             +        101.0       637.0   \n",
       "1         12439        13221             +        101.0       883.0   \n",
       "2             1          723             +          1.0       723.0   \n",
       "3           264          800             +        101.0       637.0   \n",
       "4           265          852             +        101.0       688.0   \n",
       "\n",
       "   pubmed_reference  blacklisted_taxa synonyms   hierarchy_node    db_version  \n",
       "0               NaN               NaN      NaN  aac(2')-I(A267)  2023-11-15.1  \n",
       "1          22660700               NaN      NaN      aac(2')-IIa  2023-11-15.1  \n",
       "2          27929110               NaN      NaN      aac(2')-IIb  2023-11-15.1  \n",
       "3           8407825               NaN      NaN       aac(2')-Ia  2023-11-15.1  \n",
       "4           8891143               NaN      NaN       aac(2')-Ib  2023-11-15.1  \n",
       "\n",
       "[5 rows x 25 columns]"
      ]
     },
     "execution_count": 2,
     "metadata": {},
     "output_type": "execute_result"
    }
   ],
   "source": [
    "url = \"https://ftp.ncbi.nlm.nih.gov/pathogen/Antimicrobial_resistance/AMRFinderPlus/database/latest/ReferenceGeneCatalog.txt\"\n",
    "df = pd.read_csv(urllib.request.urlopen(url), delimiter=\"\\t\")\n",
    "df.head()"
   ]
  },
  {
   "cell_type": "code",
   "execution_count": 3,
   "id": "4161aaef-c294-4393-8a79-4fc31c083c82",
   "metadata": {
    "tags": []
   },
   "outputs": [
    {
     "data": {
      "text/plain": [
       "allele                                                                        NaN\n",
       "gene_family                                                       aac(2')-I(A267)\n",
       "whitelisted_taxa                                                              NaN\n",
       "product_name                    aminoglycoside N-acetyltransferase AAC(2')-I(A...\n",
       "scope                                                                        core\n",
       "type                                                                          AMR\n",
       "subtype                                                                       AMR\n",
       "class                                                              AMINOGLYCOSIDE\n",
       "subclass                                                    GENTAMICIN/TOBRAMYCIN\n",
       "refseq_protein_accession                                           WP_025297907.1\n",
       "refseq_nucleotide_accession                                           NG_242157.1\n",
       "curated_refseq_start                                                           No\n",
       "genbank_protein_accession                                              CDI94966.1\n",
       "genbank_nucleotide_accession                                           HG530068.1\n",
       "genbank_strand                                                                  -\n",
       "genbank_start                                                             7204881\n",
       "genbank_stop                                                              7205417\n",
       "refseq_strand                                                                   +\n",
       "refseq_start                                                                101.0\n",
       "refseq_stop                                                                 637.0\n",
       "pubmed_reference                                                              NaN\n",
       "blacklisted_taxa                                                              NaN\n",
       "synonyms                                                                      NaN\n",
       "hierarchy_node                                                    aac(2')-I(A267)\n",
       "db_version                                                           2023-11-15.1\n",
       "Name: 0, dtype: object"
      ]
     },
     "execution_count": 3,
     "metadata": {},
     "output_type": "execute_result"
    }
   ],
   "source": [
    "df.loc[0]"
   ]
  },
  {
   "cell_type": "code",
   "execution_count": 4,
   "id": "2e65025b-cdb4-41f1-a9c8-2f96dee48a0a",
   "metadata": {
    "tags": []
   },
   "outputs": [],
   "source": [
    "from selenium import webdriver\n",
    "from webdriver_manager.firefox import GeckoDriverManager\n",
    "import time \n",
    "from bs4 import BeautifulSoup\n",
    "\n",
    "driver = webdriver.Firefox(executable_path=GeckoDriverManager().install())"
   ]
  },
  {
   "cell_type": "code",
   "execution_count": 5,
   "id": "3c046b35-b6f0-460e-9439-8d4bf5c193cf",
   "metadata": {
    "tags": []
   },
   "outputs": [],
   "source": [
    "def get_ncbi_table(refseq_protein_acc: str) -> str: \n",
    "    url = \"https://www.ncbi.nlm.nih.gov/protein/\" + refseq_protein_acc \n",
    "    driver.get(url) \n",
    "    time.sleep(20)\n",
    "    html = driver.page_source\n",
    "    time.sleep(5)\n",
    "    soup = BeautifulSoup(html, \"lxml\")\n",
    "    return soup.find_all(\"pre\")\n",
    "\n",
    "table = get_ncbi_table(df.loc[0].refseq_protein_accession)"
   ]
  },
  {
   "cell_type": "code",
   "execution_count": 6,
   "id": "db60f6a3-800c-47e3-9787-ee3b87763171",
   "metadata": {
    "tags": []
   },
   "outputs": [],
   "source": [
    "import re\n",
    "\n",
    "def convert_table_dict(tab: str) -> dict:\n",
    "    key, val = \"\", \"\"\n",
    "    d = {}\n",
    "    for line in str(tab).split(\"\\n\"): \n",
    "        line = re.sub('<.*?</a>', '', line)\n",
    "        line = line.strip().split(\" \", 1)\n",
    "        if line[0].isupper():\n",
    "            d[key] = val\n",
    "            key = line[0]\n",
    "            try: \n",
    "                val = line[1]\n",
    "            except IndexError: \n",
    "                val = \"\"\n",
    "        else: \n",
    "            val += \"\".join(line)\n",
    "        \n",
    "    return d\n",
    "\n",
    "info = convert_table_dict(table)\n",
    "    "
   ]
  },
  {
   "cell_type": "code",
   "execution_count": 7,
   "id": "70175471-f0af-4f72-901b-6f6977722f31",
   "metadata": {
    "tags": []
   },
   "outputs": [
    {
     "data": {
      "text/plain": [
       "{'': '[<preclass=\"genbank\">LOCUS       WP_025297907             178 aa            linear   BCT 19-NOV-2023',\n",
       " 'DEFINITION': \" aminoglycoside N-acetyltransferase AAC(2')-I(A267) [Pseudomonasaeruginosa].\",\n",
       " 'ACCESSION': '  WP_025297907',\n",
       " 'VERSION': '    WP_025297907.1',\n",
       " 'KEYWORDS': '   RefSeq.',\n",
       " 'SOURCE': '     Pseudomonas aeruginosa',\n",
       " 'ORGANISM': 'Bacteria;Pseudomonadota; Gammaproteobacteria; Pseudomonadales;Pseudomonadaceae;Pseudomonas.',\n",
       " 'COMMENT': '    REFSEQ: This record represents a single, non-redundant, proteinsequencewhich may be annotated on many different RefSeq genomesfromthe same, or different, species.##Evidence-For-Name-Assignment-START##EvidenceCategory  :: Antimicrobial Resistance ProteinEvidenceAccession ::EvidenceSource    :: Bacterial Antimicrobial Resistance ReferenceGeneDatabase##Evidence-For-Name-Assignment-END##',\n",
       " 'COMPLETENESS:': 'full length.',\n",
       " 'FEATURES': '            Location/Qualifiers<spanclass=\"feature\" id=\"feature_WP_025297907.1_source_0\"><script type=\"text/javascript\">if (typeof(oData) == \"undefined\") oData = []; oData.push ({gi:644283472,acc:\"WP_025297907\",features: {}});if (!oData[oData.length - 1].features[\"source\"]) oData[oData.length - 1].features[\"source\"] = [];oData[oData.length - 1].features[\"source\"].push([[1, 178]]);</script>     source          1..178/organism=\"Pseudomonasaeruginosa\"/db_xref=\"taxon:\"1..178/product=\"aminoglycosideN-acetyltransferase'}"
      ]
     },
     "execution_count": 7,
     "metadata": {},
     "output_type": "execute_result"
    }
   ],
   "source": [
    "info"
   ]
  },
  {
   "cell_type": "code",
   "execution_count": 8,
   "id": "000de595-975d-4843-acb6-c47aa91669fc",
   "metadata": {
    "tags": []
   },
   "outputs": [],
   "source": [
    "infos = []\n",
    "for i in range(3): \n",
    "    table = get_ncbi_table(df.at[i, \"refseq_protein_accession\"])\n",
    "    infos.append(convert_table_dict(table))"
   ]
  },
  {
   "cell_type": "code",
   "execution_count": 9,
   "id": "c9d9e1cb-94aa-4568-a25c-2a6026e79103",
   "metadata": {
    "tags": []
   },
   "outputs": [
    {
     "data": {
      "text/plain": [
       "[{'': '[<preclass=\"genbank\">LOCUS       WP_025297907             178 aa            linear   BCT 19-NOV-2023',\n",
       "  'DEFINITION': \" aminoglycoside N-acetyltransferase AAC(2')-I(A267) [Pseudomonasaeruginosa].\",\n",
       "  'ACCESSION': '  WP_025297907',\n",
       "  'VERSION': '    WP_025297907.1',\n",
       "  'KEYWORDS': '   RefSeq.',\n",
       "  'SOURCE': '     Pseudomonas aeruginosa',\n",
       "  'ORGANISM': 'Bacteria;Pseudomonadota; Gammaproteobacteria; Pseudomonadales;Pseudomonadaceae;Pseudomonas.',\n",
       "  'COMMENT': '    REFSEQ: This record represents a single, non-redundant, proteinsequencewhich may be annotated on many different RefSeq genomesfromthe same, or different, species.##Evidence-For-Name-Assignment-START##EvidenceCategory  :: Antimicrobial Resistance ProteinEvidenceAccession ::EvidenceSource    :: Bacterial Antimicrobial Resistance ReferenceGeneDatabase##Evidence-For-Name-Assignment-END##',\n",
       "  'COMPLETENESS:': 'full length.',\n",
       "  'FEATURES': '            Location/Qualifiers<spanclass=\"feature\" id=\"feature_WP_025297907.1_source_0\"><script type=\"text/javascript\">if (typeof(oData) == \"undefined\") oData = []; oData.push ({gi:644283472,acc:\"WP_025297907\",features: {}});if (!oData[oData.length - 1].features[\"source\"]) oData[oData.length - 1].features[\"source\"] = [];oData[oData.length - 1].features[\"source\"].push([[1, 178]]);</script>     source          1..178/organism=\"Pseudomonasaeruginosa\"/db_xref=\"taxon:\"1..178/product=\"aminoglycosideN-acetyltransferase'},\n",
       " {'': '[<preclass=\"genbank\">LOCUS       WP_063839881             260 aa            linear   BCT 10-OCT-2022',\n",
       "  'DEFINITION': \" MULTISPECIES: kasugamycin N-acetyltransferase AAC(2')-IIa[Pseudomonadota].\",\n",
       "  'ACCESSION': '  WP_063839881',\n",
       "  'VERSION': '    WP_063839881.1',\n",
       "  'KEYWORDS': '   RefSeq.',\n",
       "  'SOURCE': '     Pseudomonadota',\n",
       "  'ORGANISM': 'Bacteria.',\n",
       "  'COMMENT': '    REFSEQ: This record represents a single, non-redundant, proteinsequencewhich may be annotated on many different RefSeq genomesfromthe same, or different, species.##Evidence-For-Name-Assignment-START##EvidenceCategory  :: Antimicrobial Resistance ProteinEvidenceAccession ::EvidenceSource    :: Bacterial Antimicrobial Resistance ReferenceGeneDatabase##Evidence-For-Name-Assignment-END##',\n",
       "  'COMPLETENESS:': 'full length.'},\n",
       " {'': '[<preclass=\"genbank\">LOCUS       WP_071224044             240 aa            linear   BCT 10-OCT-2022',\n",
       "  'DEFINITION': \" kasugamycin N-acetyltransferase AAC(2')-IIb [Paenibacillus sp.\",\n",
       "  'LC231].': '',\n",
       "  'ACCESSION': '  WP_071224044',\n",
       "  'VERSION': '    WP_071224044.1',\n",
       "  'KEYWORDS': '   RefSeq.',\n",
       "  'SOURCE': '     Paenibacillus sp. LC231',\n",
       "  'ORGANISM': 'Bacteria;Bacillota; Bacilli; Bacillales; Paenibacillaceae;Paenibacillus.',\n",
       "  'REFERENCE': '  1  (residues 1 to 240)',\n",
       "  'AUTHORS': '  Pawlowski,A.C., Wang,W., Koteva,K., Barton,H.A., McArthur,A.G. andWright,G.D.',\n",
       "  'TITLE': '    A diverse intrinsic antibiotic resistome from a cave bacterium',\n",
       "  'JOURNAL': '  Nat Commun 7, 13803 (2016)',\n",
       "  'PUBMED': '',\n",
       "  'REMARK': '   Publication Status: Online-Only',\n",
       "  'COMMENT': '    REFSEQ: This record represents a single, non-redundant, proteinsequencewhich may be annotated on many different RefSeq genomesfromthe same, or different, species.##Evidence-For-Name-Assignment-START##EvidenceCategory  :: Antimicrobial Resistance ProteinEvidenceAccession ::EvidenceSource    :: Bacterial Antimicrobial Resistance ReferenceGeneDatabase##Evidence-For-Name-Assignment-END##',\n",
       "  'COMPLETENESS:': 'full length.'}]"
      ]
     },
     "execution_count": 9,
     "metadata": {},
     "output_type": "execute_result"
    }
   ],
   "source": [
    "infos"
   ]
  },
  {
   "cell_type": "code",
   "execution_count": 10,
   "id": "b734aed0-efcb-462f-86d1-c75121929067",
   "metadata": {
    "tags": []
   },
   "outputs": [
    {
     "name": "stdout",
     "output_type": "stream",
     "text": [
      "     Pseudomonas aeruginosa\n",
      "Bacteria;Pseudomonadota; Gammaproteobacteria; Pseudomonadales;Pseudomonadaceae;Pseudomonas.\n",
      "     Pseudomonadota\n",
      "Bacteria.\n",
      "     Paenibacillus sp. LC231\n",
      "Bacteria;Bacillota; Bacilli; Bacillales; Paenibacillaceae;Paenibacillus.\n"
     ]
    }
   ],
   "source": [
    "for info in infos: \n",
    "    print(info[\"SOURCE\"])\n",
    "    print(info[\"ORGANISM\"])"
   ]
  },
  {
   "cell_type": "code",
   "execution_count": 11,
   "id": "a8f05906-0b25-4eb2-bfaf-737f79aeb364",
   "metadata": {
    "tags": []
   },
   "outputs": [
    {
     "data": {
      "text/plain": [
       "('     Pseudomonas aeruginosa',\n",
       " 'Bacteria;Pseudomonadota; Gammaproteobacteria; Pseudomonadales;Pseudomonadaceae;Pseudomonas.')"
      ]
     },
     "execution_count": 11,
     "metadata": {},
     "output_type": "execute_result"
    }
   ],
   "source": [
    "infos[0][\"SOURCE\"], infos[0][\"ORGANISM\"]"
   ]
  },
  {
   "cell_type": "code",
   "execution_count": 65,
   "id": "eca8c637-8d88-4e33-a049-56cd3c4e61c7",
   "metadata": {
    "tags": []
   },
   "outputs": [],
   "source": [
    "net_dfs = []\n",
    "for i, info in enumerate(infos): \n",
    "    net_df = pd.DataFrame(columns=[\"subject\", \"predicate\", \"object\"])\n",
    "    ii = info[\"ORGANISM\"].split(\";\") + [info[\"SOURCE\"]]\n",
    "    ii = [s.strip() if s[-1] != \".\" else s[:-1].strip() for s in ii]\n",
    "    net_df[\"subject\"] = ii[1:]\n",
    "    net_df[\"object\"] = ii[:-1]\n",
    "    net_df[\"predicate\"] = \"isTaxonOf\"\n",
    "    net_df.loc[len(net_df.index)] = [df.loc[i].product_name, \"isTaxonOf\", info[\"SOURCE\"].strip()]\n",
    "    net_dfs.append(net_df)\n",
    "\n",
    "net_df = pd.concat(net_dfs)"
   ]
  },
  {
   "cell_type": "code",
   "execution_count": 66,
   "id": "2d5b3003-5bbe-447e-a5bb-9026e9dc773d",
   "metadata": {
    "tags": []
   },
   "outputs": [
    {
     "data": {
      "text/html": [
       "<div>\n",
       "<style scoped>\n",
       "    .dataframe tbody tr th:only-of-type {\n",
       "        vertical-align: middle;\n",
       "    }\n",
       "\n",
       "    .dataframe tbody tr th {\n",
       "        vertical-align: top;\n",
       "    }\n",
       "\n",
       "    .dataframe thead th {\n",
       "        text-align: right;\n",
       "    }\n",
       "</style>\n",
       "<table border=\"1\" class=\"dataframe\">\n",
       "  <thead>\n",
       "    <tr style=\"text-align: right;\">\n",
       "      <th></th>\n",
       "      <th>subject</th>\n",
       "      <th>predicate</th>\n",
       "      <th>object</th>\n",
       "    </tr>\n",
       "  </thead>\n",
       "  <tbody>\n",
       "    <tr>\n",
       "      <th>0</th>\n",
       "      <td>Pseudomonadota</td>\n",
       "      <td>isTaxonOf</td>\n",
       "      <td>Bacteria</td>\n",
       "    </tr>\n",
       "    <tr>\n",
       "      <th>1</th>\n",
       "      <td>Gammaproteobacteria</td>\n",
       "      <td>isTaxonOf</td>\n",
       "      <td>Pseudomonadota</td>\n",
       "    </tr>\n",
       "    <tr>\n",
       "      <th>2</th>\n",
       "      <td>Pseudomonadales</td>\n",
       "      <td>isTaxonOf</td>\n",
       "      <td>Gammaproteobacteria</td>\n",
       "    </tr>\n",
       "    <tr>\n",
       "      <th>3</th>\n",
       "      <td>Pseudomonadaceae</td>\n",
       "      <td>isTaxonOf</td>\n",
       "      <td>Pseudomonadales</td>\n",
       "    </tr>\n",
       "    <tr>\n",
       "      <th>4</th>\n",
       "      <td>Pseudomonas</td>\n",
       "      <td>isTaxonOf</td>\n",
       "      <td>Pseudomonadaceae</td>\n",
       "    </tr>\n",
       "    <tr>\n",
       "      <th>5</th>\n",
       "      <td>Pseudomonas aeruginosa</td>\n",
       "      <td>isTaxonOf</td>\n",
       "      <td>Pseudomonas</td>\n",
       "    </tr>\n",
       "    <tr>\n",
       "      <th>6</th>\n",
       "      <td>aminoglycoside N-acetyltransferase AAC(2')-I(A...</td>\n",
       "      <td>isTaxonOf</td>\n",
       "      <td>Pseudomonas aeruginosa</td>\n",
       "    </tr>\n",
       "    <tr>\n",
       "      <th>7</th>\n",
       "      <td>kasugamycin N-acetyltransferase AAC(2')-IIa</td>\n",
       "      <td>isTaxonOf</td>\n",
       "      <td>Pseudomonadota</td>\n",
       "    </tr>\n",
       "    <tr>\n",
       "      <th>8</th>\n",
       "      <td>Bacillota</td>\n",
       "      <td>isTaxonOf</td>\n",
       "      <td>Bacteria</td>\n",
       "    </tr>\n",
       "    <tr>\n",
       "      <th>9</th>\n",
       "      <td>Bacilli</td>\n",
       "      <td>isTaxonOf</td>\n",
       "      <td>Bacillota</td>\n",
       "    </tr>\n",
       "    <tr>\n",
       "      <th>10</th>\n",
       "      <td>Bacillales</td>\n",
       "      <td>isTaxonOf</td>\n",
       "      <td>Bacilli</td>\n",
       "    </tr>\n",
       "    <tr>\n",
       "      <th>11</th>\n",
       "      <td>Paenibacillaceae</td>\n",
       "      <td>isTaxonOf</td>\n",
       "      <td>Bacillales</td>\n",
       "    </tr>\n",
       "    <tr>\n",
       "      <th>12</th>\n",
       "      <td>Paenibacillus</td>\n",
       "      <td>isTaxonOf</td>\n",
       "      <td>Paenibacillaceae</td>\n",
       "    </tr>\n",
       "    <tr>\n",
       "      <th>13</th>\n",
       "      <td>Paenibacillus sp. LC231</td>\n",
       "      <td>isTaxonOf</td>\n",
       "      <td>Paenibacillus</td>\n",
       "    </tr>\n",
       "    <tr>\n",
       "      <th>14</th>\n",
       "      <td>kasugamycin N-acetyltransferase AAC(2')-IIb</td>\n",
       "      <td>isTaxonOf</td>\n",
       "      <td>Paenibacillus sp. LC231</td>\n",
       "    </tr>\n",
       "  </tbody>\n",
       "</table>\n",
       "</div>"
      ],
      "text/plain": [
       "                                              subject  predicate  \\\n",
       "0                                      Pseudomonadota  isTaxonOf   \n",
       "1                                 Gammaproteobacteria  isTaxonOf   \n",
       "2                                     Pseudomonadales  isTaxonOf   \n",
       "3                                    Pseudomonadaceae  isTaxonOf   \n",
       "4                                         Pseudomonas  isTaxonOf   \n",
       "5                              Pseudomonas aeruginosa  isTaxonOf   \n",
       "6   aminoglycoside N-acetyltransferase AAC(2')-I(A...  isTaxonOf   \n",
       "7         kasugamycin N-acetyltransferase AAC(2')-IIa  isTaxonOf   \n",
       "8                                           Bacillota  isTaxonOf   \n",
       "9                                             Bacilli  isTaxonOf   \n",
       "10                                         Bacillales  isTaxonOf   \n",
       "11                                   Paenibacillaceae  isTaxonOf   \n",
       "12                                      Paenibacillus  isTaxonOf   \n",
       "13                            Paenibacillus sp. LC231  isTaxonOf   \n",
       "14        kasugamycin N-acetyltransferase AAC(2')-IIb  isTaxonOf   \n",
       "\n",
       "                     object  \n",
       "0                  Bacteria  \n",
       "1            Pseudomonadota  \n",
       "2       Gammaproteobacteria  \n",
       "3           Pseudomonadales  \n",
       "4          Pseudomonadaceae  \n",
       "5               Pseudomonas  \n",
       "6    Pseudomonas aeruginosa  \n",
       "7            Pseudomonadota  \n",
       "8                  Bacteria  \n",
       "9                 Bacillota  \n",
       "10                  Bacilli  \n",
       "11               Bacillales  \n",
       "12         Paenibacillaceae  \n",
       "13            Paenibacillus  \n",
       "14  Paenibacillus sp. LC231  "
      ]
     },
     "execution_count": 66,
     "metadata": {},
     "output_type": "execute_result"
    }
   ],
   "source": [
    "net_df.drop_duplicates(inplace=True)\n",
    "net_df.reset_index(inplace=True, drop=True)\n",
    "net_df"
   ]
  },
  {
   "cell_type": "code",
   "execution_count": 67,
   "id": "a9cd1312-fd7e-43a6-befe-e6e3cf555da2",
   "metadata": {
    "tags": []
   },
   "outputs": [
    {
     "data": {
      "text/plain": [
       "(array(['Pseudomonadota', 'isTaxonOf', 'Bacteria'], dtype=object),\n",
       " array([\"kasugamycin N-acetyltransferase AAC(2')-IIa\", 'isTaxonOf',\n",
       "        'Pseudomonadota'], dtype=object))"
      ]
     },
     "execution_count": 67,
     "metadata": {},
     "output_type": "execute_result"
    }
   ],
   "source": [
    "net_df.loc[0].to_numpy(), net_df.loc[7].to_numpy()"
   ]
  },
  {
   "cell_type": "code",
   "execution_count": 68,
   "id": "f3c13af7-55a6-425e-bcef-d78cdb7c0486",
   "metadata": {
    "tags": []
   },
   "outputs": [
    {
     "data": {
      "image/png": "[encoded data removed]",
      "text/plain": [
       "<Figure size 1200x1200 with 1 Axes>"
      ]
     },
     "metadata": {},
     "output_type": "display_data"
    }
   ],
   "source": [
    "import networkx as nx\n",
    "import matplotlib.pyplot as plt \n",
    "\n",
    "G=nx.from_pandas_edgelist(net_df, \"object\", \"subject\", edge_attr=True)\n",
    "\n",
    "plt.figure(figsize=(12, 12))\n",
    "\n",
    "pos = nx.spring_layout(G)\n",
    "nx.draw(G, with_labels=True, node_color=\"red\", edge_cmap=plt.cm.Blues, pos=pos)\n",
    "plt.show()"
   ]
  },
  {
   "cell_type": "code",
   "execution_count": 29,
   "id": "217c3ae6-5d03-4db6-bebd-08080c55cf26",
   "metadata": {
    "tags": []
   },
   "outputs": [
    {
     "name": "stdout",
     "output_type": "stream",
     "text": [
      "Gfg is best for  Geeks \n"
     ]
    }
   ],
   "source": [
    "\n",
    "import string\n",
    " \n",
    "test_str = 'Gfg, is best: for ! Geeks ;'\n",
    " \n",
    "test_str = test_str.translate(str.maketrans('', '', string.punctuation))\n",
    "print(test_str)\n"
   ]
  },
  {
   "cell_type": "code",
   "execution_count": null,
   "id": "b6ebb103-e22c-45f5-9876-1578ffe4d47e",
   "metadata": {},
   "outputs": [],
   "source": []
  }
 ],
 "metadata": {
  "kernelspec": {
   "display_name": "Python [conda env:lod]",
   "language": "python",
   "name": "conda-env-lod-py"
  },
  "language_info": {
   "codemirror_mode": {
    "name": "ipython",
    "version": 3
   },
   "file_extension": ".py",
   "mimetype": "text/x-python",
   "name": "python",
   "nbconvert_exporter": "python",
   "pygments_lexer": "ipython3",
   "version": "3.11.5"
  }
 },
 "nbformat": 4,
 "nbformat_minor": 5
}
