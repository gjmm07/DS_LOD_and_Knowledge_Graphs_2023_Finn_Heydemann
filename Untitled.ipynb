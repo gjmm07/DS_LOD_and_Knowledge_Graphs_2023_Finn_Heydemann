{
 "cells": [
  {
   "cell_type": "code",
   "execution_count": null,
   "id": "3e99dd1f-c2d4-44df-97d7-06220ff9cbe3",
   "metadata": {},
   "outputs": [],
   "source": []
  }
 ],
 "metadata": {
  "kernelspec": {
   "display_name": "Python [conda env:lod]",
   "language": "python",
   "name": "conda-env-lod-py"
  },
  "language_info": {
   "codemirror_mode": {
    "name": "ipython",
    "version": 3
   },
   "file_extension": ".py",
   "mimetype": "text/x-python",
   "name": "python",
   "nbconvert_exporter": "python",
   "pygments_lexer": "ipython3",
   "version": "3.11.5"
  }
 },
 "nbformat": 4,
 "nbformat_minor": 5
}
