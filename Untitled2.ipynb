{
 "cells": [
  {
   "cell_type": "code",
   "execution_count": 3,
   "id": "6442f700-4975-4dd2-b82b-792c6472634a",
   "metadata": {
    "tags": []
   },
   "outputs": [
    {
     "data": {
      "text/plain": [
       "Index(['allele', 'gene_family', 'whitelisted_taxa', 'product_name', 'scope',\n",
       "       'type', 'subtype', 'class', 'subclass', 'refseq_protein_accession',\n",
       "       'refseq_nucleotide_accession', 'curated_refseq_start',\n",
       "       'genbank_protein_accession', 'genbank_nucleotide_accession',\n",
       "       'genbank_strand', 'genbank_start', 'genbank_stop', 'refseq_strand',\n",
       "       'refseq_start', 'refseq_stop', 'pubmed_reference', 'blacklisted_taxa',\n",
       "       'synonyms', 'hierarchy_node', 'db_version'],\n",
       "      dtype='object')"
      ]
     },
     "execution_count": 3,
     "metadata": {},
     "output_type": "execute_result"
    }
   ],
   "source": [
    "import pandas as pd \n",
    "import urllib\n",
    "import time \n",
    "import numpy as np \n",
    "import bioservice_fetcher as biof \n",
    "\n",
    "\n",
    "url = \"https://ftp.ncbi.nlm.nih.gov/pathogen/Antimicrobial_resistance/AMRFinderPlus/database/latest/ReferenceGeneCatalog.txt\"\n",
    "df = pd.read_csv(urllib.request.urlopen(url), delimiter=\"\\t\")\n",
    "df.keys()"
   ]
  },
  {
   "cell_type": "markdown",
   "id": "7e328c2b-56f0-43b8-9211-3856cd73464e",
   "metadata": {
    "tags": []
   },
   "source": [
    "## Fetch data from NCBI database \n",
    "\n",
    "The read dataframe contains keys to access the protein, nucleotide either via Reference Sequence (RefSeq) database or genbank. Lets load the first two columns of the dataframe and read some values. First try is to get the data from the RefSeq-database.  "
   ]
  },
  {
   "cell_type": "code",
   "execution_count": 161,
   "id": "bf56b4b3-f5fe-498d-b5ff-ff2b1e48a9a2",
   "metadata": {
    "tags": []
   },
   "outputs": [],
   "source": [
    "import time\n",
    "from bioservices import EUtils\n",
    "import pandas as pd\n",
    "\n",
    "\n",
    "_s = EUtils(email=\"finn.heydemann@th-koeln.de\")\n",
    "\n",
    "\n",
    "def _fetch_refseq_nucleotid(refseq_nucleotid_id: str) -> tuple[str, str, str]:\n",
    "    \"\"\"\n",
    "    Based on a ncbi refseq nucleotid ID the encoded protein, gene and bacterial strain is returned \n",
    "    \"\"\"\n",
    "    data = _s.EFetch(\"nucleotide\", refseq_nucleotid_id, retmode=\"dict\", rettype=\"summary\")[\"GBSet\"][\"GBSeq\"]\n",
    "    time.sleep(1)  # wait to ensure to not be blocked\n",
    "    gene, protein = data[\"GBSeq_definition\"].split(\"gene for\")\n",
    "    protein = protein.replace(\", complete CDS\", \"\")\n",
    "    strain = data[\"GBSeq_organism\"]\n",
    "    return protein.strip(), gene.strip(), strain.strip()\n",
    "\n",
    "\n",
    "def _fetch_refseq_protein(refseq_protein_id: str) -> tuple[str, str, str]:\n",
    "    \"\"\"\n",
    "    Based on the ncbi refseq protein ID the parent taxon, the protein name is returend\n",
    "    If needed the same parent taxon is returned based on another entry\n",
    "    \"\"\"\n",
    "    try: \n",
    "        data = _s.EFetch(\"protein\", refseq_protein_id, retmode=\"dict\", rettype=\"summary\")[\"GBSet\"][\"GBSeq\"]\n",
    "    except AttributeError: \n",
    "        return \"\", \"\", \"\"\n",
    "    time.sleep(1)  # wait to ensure to not be blocked\n",
    "    parent_taxon: str = data[\"GBSeq_organism\"].strip()\n",
    "    definition = data[\"GBSeq_definition\"]\n",
    "    start_index, stop_index = (n := definition.find(\"[\")), definition.find(\"]\", n)\n",
    "    same_parent_taxon: str = definition[start_index + 1: stop_index].strip()\n",
    "    protein = (definition[:start_index] + definition[stop_index + 1:])\n",
    "    protein: str = protein.replace(\"MULTISPECIES: \", \"\").strip()\n",
    "    return parent_taxon, protein, same_parent_taxon\n",
    "\n",
    "\n",
    "def _fetch_genbank_protein(genbank_protein: str) -> tuple[str, str]:\n",
    "    try:\n",
    "        data = _s.EFetch(\"protein\", genbank_protein, retmode=\"dict\", rettype=\"summary\")[\"GBSet\"][\"GBSeq\"]\n",
    "    except AttributeError: \n",
    "        return \"\", \"\"\n",
    "    time.sleep(1)\n",
    "    strain, organism = \"\", \"\"\n",
    "    for t in data[\"GBSeq_feature-table\"][\"GBFeature\"]:\n",
    "        if t[\"GBFeature_key\"] == \"source\":\n",
    "            for x in t[\"GBFeature_quals\"][\"GBQualifier\"]:\n",
    "                if x[\"GBQualifier_name\"] == \"organism\":\n",
    "                    organism = x[\"GBQualifier_value\"]\n",
    "                if x[\"GBQualifier_name\"] == \"strain\":\n",
    "                    strain = x[\"GBQualifier_value\"]\n",
    "    return organism, strain\n",
    "\n",
    "\n",
    "\"\"\"\n",
    "################################\n",
    "################################\n",
    "#####    Callable Funcs    #####\n",
    "################################\n",
    "################################ \n",
    "\"\"\"\n",
    "\n",
    "\n",
    "def get_protein_and_parent(df_row: pd.Series) -> pd.Series:\n",
    "    \"\"\"\n",
    "    To a pandas dataframe row this function return a pd Series with the bacteria parent taxon and the protein it encodes\n",
    "    \"\"\"\n",
    "    parent_taxon, protein, *_ = _fetch_refseq_protein(df_row.refseq_protein_accession)\n",
    "    return pd.Series([parent_taxon, protein])\n",
    "\n",
    "\n",
    "def get_strain_and_gene(df_row: pd.Series) -> pd.Series:\n",
    "    print(_fetch_refseq_nucleotid(df_row.refseq_nucleotide_accession).__len__())\n",
    "    _, gene, strain = _fetch_refseq_nucleotid(df_row.refseq_nucleotide_accession)\n",
    "    return pd.Series([gene, strain])\n",
    "\n",
    "\n",
    "def get_organism_strain(df_row: pd.Series) -> pd.Series: \n",
    "    return pd.Series(_fetch_genbank_protein(df_row.genbank_protein_accession))"
   ]
  },
  {
   "cell_type": "code",
   "execution_count": 162,
   "id": "6a9931e9-ea92-41c1-ad11-2648e96da9a2",
   "metadata": {
    "tags": []
   },
   "outputs": [
    {
     "name": "stdout",
     "output_type": "stream",
     "text": [
      "3\n",
      "3\n"
     ]
    },
    {
     "ename": "ValueError",
     "evalue": "not enough values to unpack (expected 2, got 1)",
     "output_type": "error",
     "traceback": [
      "\u001b[0;31m---------------------------------------------------------------------------\u001b[0m",
      "\u001b[0;31mValueError\u001b[0m                                Traceback (most recent call last)",
      "Cell \u001b[0;32mIn[162], line 3\u001b[0m\n\u001b[1;32m      1\u001b[0m sample_df \u001b[38;5;241m=\u001b[39m df\u001b[38;5;241m.\u001b[39msample(\u001b[38;5;241m5\u001b[39m, random_state\u001b[38;5;241m=\u001b[39m\u001b[38;5;241m2\u001b[39m)\n\u001b[0;32m----> 3\u001b[0m sample_df[[\u001b[38;5;124m\"\u001b[39m\u001b[38;5;124m_gene\u001b[39m\u001b[38;5;124m\"\u001b[39m, \u001b[38;5;124m\"\u001b[39m\u001b[38;5;124m_strain\u001b[39m\u001b[38;5;124m\"\u001b[39m]] \u001b[38;5;241m=\u001b[39m \u001b[43msample_df\u001b[49m\u001b[38;5;241;43m.\u001b[39;49m\u001b[43mapply\u001b[49m\u001b[43m(\u001b[49m\u001b[43mget_strain_and_gene\u001b[49m\u001b[43m,\u001b[49m\u001b[43m \u001b[49m\u001b[43maxis\u001b[49m\u001b[38;5;241;43m=\u001b[39;49m\u001b[38;5;241;43m1\u001b[39;49m\u001b[43m)\u001b[49m\n",
      "File \u001b[0;32m~/Documents/python-venvs/lodkg/lib/python3.10/site-packages/pandas/core/frame.py:10034\u001b[0m, in \u001b[0;36mDataFrame.apply\u001b[0;34m(self, func, axis, raw, result_type, args, by_row, **kwargs)\u001b[0m\n\u001b[1;32m  10022\u001b[0m \u001b[38;5;28;01mfrom\u001b[39;00m \u001b[38;5;21;01mpandas\u001b[39;00m\u001b[38;5;21;01m.\u001b[39;00m\u001b[38;5;21;01mcore\u001b[39;00m\u001b[38;5;21;01m.\u001b[39;00m\u001b[38;5;21;01mapply\u001b[39;00m \u001b[38;5;28;01mimport\u001b[39;00m frame_apply\n\u001b[1;32m  10024\u001b[0m op \u001b[38;5;241m=\u001b[39m frame_apply(\n\u001b[1;32m  10025\u001b[0m     \u001b[38;5;28mself\u001b[39m,\n\u001b[1;32m  10026\u001b[0m     func\u001b[38;5;241m=\u001b[39mfunc,\n\u001b[0;32m   (...)\u001b[0m\n\u001b[1;32m  10032\u001b[0m     kwargs\u001b[38;5;241m=\u001b[39mkwargs,\n\u001b[1;32m  10033\u001b[0m )\n\u001b[0;32m> 10034\u001b[0m \u001b[38;5;28;01mreturn\u001b[39;00m \u001b[43mop\u001b[49m\u001b[38;5;241;43m.\u001b[39;49m\u001b[43mapply\u001b[49m\u001b[43m(\u001b[49m\u001b[43m)\u001b[49m\u001b[38;5;241m.\u001b[39m__finalize__(\u001b[38;5;28mself\u001b[39m, method\u001b[38;5;241m=\u001b[39m\u001b[38;5;124m\"\u001b[39m\u001b[38;5;124mapply\u001b[39m\u001b[38;5;124m\"\u001b[39m)\n",
      "File \u001b[0;32m~/Documents/python-venvs/lodkg/lib/python3.10/site-packages/pandas/core/apply.py:837\u001b[0m, in \u001b[0;36mFrameApply.apply\u001b[0;34m(self)\u001b[0m\n\u001b[1;32m    834\u001b[0m \u001b[38;5;28;01melif\u001b[39;00m \u001b[38;5;28mself\u001b[39m\u001b[38;5;241m.\u001b[39mraw:\n\u001b[1;32m    835\u001b[0m     \u001b[38;5;28;01mreturn\u001b[39;00m \u001b[38;5;28mself\u001b[39m\u001b[38;5;241m.\u001b[39mapply_raw()\n\u001b[0;32m--> 837\u001b[0m \u001b[38;5;28;01mreturn\u001b[39;00m \u001b[38;5;28;43mself\u001b[39;49m\u001b[38;5;241;43m.\u001b[39;49m\u001b[43mapply_standard\u001b[49m\u001b[43m(\u001b[49m\u001b[43m)\u001b[49m\n",
      "File \u001b[0;32m~/Documents/python-venvs/lodkg/lib/python3.10/site-packages/pandas/core/apply.py:965\u001b[0m, in \u001b[0;36mFrameApply.apply_standard\u001b[0;34m(self)\u001b[0m\n\u001b[1;32m    964\u001b[0m \u001b[38;5;28;01mdef\u001b[39;00m \u001b[38;5;21mapply_standard\u001b[39m(\u001b[38;5;28mself\u001b[39m):\n\u001b[0;32m--> 965\u001b[0m     results, res_index \u001b[38;5;241m=\u001b[39m \u001b[38;5;28;43mself\u001b[39;49m\u001b[38;5;241;43m.\u001b[39;49m\u001b[43mapply_series_generator\u001b[49m\u001b[43m(\u001b[49m\u001b[43m)\u001b[49m\n\u001b[1;32m    967\u001b[0m     \u001b[38;5;66;03m# wrap results\u001b[39;00m\n\u001b[1;32m    968\u001b[0m     \u001b[38;5;28;01mreturn\u001b[39;00m \u001b[38;5;28mself\u001b[39m\u001b[38;5;241m.\u001b[39mwrap_results(results, res_index)\n",
      "File \u001b[0;32m~/Documents/python-venvs/lodkg/lib/python3.10/site-packages/pandas/core/apply.py:981\u001b[0m, in \u001b[0;36mFrameApply.apply_series_generator\u001b[0;34m(self)\u001b[0m\n\u001b[1;32m    978\u001b[0m \u001b[38;5;28;01mwith\u001b[39;00m option_context(\u001b[38;5;124m\"\u001b[39m\u001b[38;5;124mmode.chained_assignment\u001b[39m\u001b[38;5;124m\"\u001b[39m, \u001b[38;5;28;01mNone\u001b[39;00m):\n\u001b[1;32m    979\u001b[0m     \u001b[38;5;28;01mfor\u001b[39;00m i, v \u001b[38;5;129;01min\u001b[39;00m \u001b[38;5;28menumerate\u001b[39m(series_gen):\n\u001b[1;32m    980\u001b[0m         \u001b[38;5;66;03m# ignore SettingWithCopy here in case the user mutates\u001b[39;00m\n\u001b[0;32m--> 981\u001b[0m         results[i] \u001b[38;5;241m=\u001b[39m \u001b[38;5;28;43mself\u001b[39;49m\u001b[38;5;241;43m.\u001b[39;49m\u001b[43mfunc\u001b[49m\u001b[43m(\u001b[49m\u001b[43mv\u001b[49m\u001b[43m,\u001b[49m\u001b[43m \u001b[49m\u001b[38;5;241;43m*\u001b[39;49m\u001b[38;5;28;43mself\u001b[39;49m\u001b[38;5;241;43m.\u001b[39;49m\u001b[43margs\u001b[49m\u001b[43m,\u001b[49m\u001b[43m \u001b[49m\u001b[38;5;241;43m*\u001b[39;49m\u001b[38;5;241;43m*\u001b[39;49m\u001b[38;5;28;43mself\u001b[39;49m\u001b[38;5;241;43m.\u001b[39;49m\u001b[43mkwargs\u001b[49m\u001b[43m)\u001b[49m\n\u001b[1;32m    982\u001b[0m         \u001b[38;5;28;01mif\u001b[39;00m \u001b[38;5;28misinstance\u001b[39m(results[i], ABCSeries):\n\u001b[1;32m    983\u001b[0m             \u001b[38;5;66;03m# If we have a view on v, we need to make a copy because\u001b[39;00m\n\u001b[1;32m    984\u001b[0m             \u001b[38;5;66;03m#  series_generator will swap out the underlying data\u001b[39;00m\n\u001b[1;32m    985\u001b[0m             results[i] \u001b[38;5;241m=\u001b[39m results[i]\u001b[38;5;241m.\u001b[39mcopy(deep\u001b[38;5;241m=\u001b[39m\u001b[38;5;28;01mFalse\u001b[39;00m)\n",
      "Cell \u001b[0;32mIn[161], line 75\u001b[0m, in \u001b[0;36mget_strain_and_gene\u001b[0;34m(df_row)\u001b[0m\n\u001b[1;32m     74\u001b[0m \u001b[38;5;28;01mdef\u001b[39;00m \u001b[38;5;21mget_strain_and_gene\u001b[39m(df_row: pd\u001b[38;5;241m.\u001b[39mSeries) \u001b[38;5;241m-\u001b[39m\u001b[38;5;241m>\u001b[39m pd\u001b[38;5;241m.\u001b[39mSeries:\n\u001b[0;32m---> 75\u001b[0m     \u001b[38;5;28mprint\u001b[39m(\u001b[43m_fetch_refseq_nucleotid\u001b[49m\u001b[43m(\u001b[49m\u001b[43mdf_row\u001b[49m\u001b[38;5;241;43m.\u001b[39;49m\u001b[43mrefseq_nucleotide_accession\u001b[49m\u001b[43m)\u001b[49m\u001b[38;5;241m.\u001b[39m\u001b[38;5;21m__len__\u001b[39m())\n\u001b[1;32m     76\u001b[0m     _, gene, strain \u001b[38;5;241m=\u001b[39m _fetch_refseq_nucleotid(df_row\u001b[38;5;241m.\u001b[39mrefseq_nucleotide_accession)\n\u001b[1;32m     77\u001b[0m     \u001b[38;5;28;01mreturn\u001b[39;00m pd\u001b[38;5;241m.\u001b[39mSeries([gene, strain])\n",
      "Cell \u001b[0;32mIn[161], line 15\u001b[0m, in \u001b[0;36m_fetch_refseq_nucleotid\u001b[0;34m(refseq_nucleotid_id)\u001b[0m\n\u001b[1;32m     13\u001b[0m data \u001b[38;5;241m=\u001b[39m _s\u001b[38;5;241m.\u001b[39mEFetch(\u001b[38;5;124m\"\u001b[39m\u001b[38;5;124mnucleotide\u001b[39m\u001b[38;5;124m\"\u001b[39m, refseq_nucleotid_id, retmode\u001b[38;5;241m=\u001b[39m\u001b[38;5;124m\"\u001b[39m\u001b[38;5;124mdict\u001b[39m\u001b[38;5;124m\"\u001b[39m, rettype\u001b[38;5;241m=\u001b[39m\u001b[38;5;124m\"\u001b[39m\u001b[38;5;124msummary\u001b[39m\u001b[38;5;124m\"\u001b[39m)[\u001b[38;5;124m\"\u001b[39m\u001b[38;5;124mGBSet\u001b[39m\u001b[38;5;124m\"\u001b[39m][\u001b[38;5;124m\"\u001b[39m\u001b[38;5;124mGBSeq\u001b[39m\u001b[38;5;124m\"\u001b[39m]\n\u001b[1;32m     14\u001b[0m time\u001b[38;5;241m.\u001b[39msleep(\u001b[38;5;241m1\u001b[39m)  \u001b[38;5;66;03m# wait to ensure to not be blocked\u001b[39;00m\n\u001b[0;32m---> 15\u001b[0m gene, protein \u001b[38;5;241m=\u001b[39m data[\u001b[38;5;124m\"\u001b[39m\u001b[38;5;124mGBSeq_definition\u001b[39m\u001b[38;5;124m\"\u001b[39m]\u001b[38;5;241m.\u001b[39msplit(\u001b[38;5;124m\"\u001b[39m\u001b[38;5;124mgene for\u001b[39m\u001b[38;5;124m\"\u001b[39m)\n\u001b[1;32m     16\u001b[0m protein \u001b[38;5;241m=\u001b[39m protein\u001b[38;5;241m.\u001b[39mreplace(\u001b[38;5;124m\"\u001b[39m\u001b[38;5;124m, complete CDS\u001b[39m\u001b[38;5;124m\"\u001b[39m, \u001b[38;5;124m\"\u001b[39m\u001b[38;5;124m\"\u001b[39m)\n\u001b[1;32m     17\u001b[0m strain \u001b[38;5;241m=\u001b[39m data[\u001b[38;5;124m\"\u001b[39m\u001b[38;5;124mGBSeq_organism\u001b[39m\u001b[38;5;124m\"\u001b[39m]\n",
      "\u001b[0;31mValueError\u001b[0m: not enough values to unpack (expected 2, got 1)"
     ]
    }
   ],
   "source": [
    "sample_df = df.sample(5, random_state=2)\n",
    "\n",
    "sample_df[[\"_gene\", \"_strain\"]] = sample_df.apply(get_strain_and_gene, axis=1)"
   ]
  },
  {
   "cell_type": "code",
   "execution_count": null,
   "id": "4ab5a607-884f-49f0-b3ba-7b2350693620",
   "metadata": {
    "tags": []
   },
   "outputs": [],
   "source": [
    "sample_df[\"_gene\"]"
   ]
  },
  {
   "cell_type": "code",
   "execution_count": null,
   "id": "d4f4fe93-91d3-48bb-9a65-626aea9a69cf",
   "metadata": {
    "tags": []
   },
   "outputs": [],
   "source": []
  },
  {
   "cell_type": "code",
   "execution_count": null,
   "id": "65ae9bb4-e3b8-4f1c-b0b6-30345cdefb79",
   "metadata": {
    "tags": []
   },
   "outputs": [],
   "source": []
  },
  {
   "cell_type": "code",
   "execution_count": null,
   "id": "a3d3312e-ed58-41d4-821c-e71d00489287",
   "metadata": {
    "tags": []
   },
   "outputs": [],
   "source": []
  },
  {
   "cell_type": "code",
   "execution_count": null,
   "id": "7f1a7f18-a125-4ae8-853f-18fdbfcc2414",
   "metadata": {
    "tags": []
   },
   "outputs": [],
   "source": []
  },
  {
   "cell_type": "code",
   "execution_count": null,
   "id": "3d00b07d-6c55-4cc8-bbf9-3bba557508f5",
   "metadata": {
    "tags": []
   },
   "outputs": [],
   "source": [
    "sample_df = df.head(5).copy()"
   ]
  },
  {
   "cell_type": "code",
   "execution_count": 6,
   "id": "d506d900-1987-4ee6-961d-50b922bde632",
   "metadata": {
    "tags": []
   },
   "outputs": [
    {
     "data": {
      "text/html": [
       "<div>\n",
       "<style scoped>\n",
       "    .dataframe tbody tr th:only-of-type {\n",
       "        vertical-align: middle;\n",
       "    }\n",
       "\n",
       "    .dataframe tbody tr th {\n",
       "        vertical-align: top;\n",
       "    }\n",
       "\n",
       "    .dataframe thead th {\n",
       "        text-align: right;\n",
       "    }\n",
       "</style>\n",
       "<table border=\"1\" class=\"dataframe\">\n",
       "  <thead>\n",
       "    <tr style=\"text-align: right;\">\n",
       "      <th></th>\n",
       "      <th>product_name</th>\n",
       "      <th>_parent_taxon</th>\n",
       "      <th>_protein</th>\n",
       "      <th>_gene</th>\n",
       "      <th>_strain</th>\n",
       "    </tr>\n",
       "  </thead>\n",
       "  <tbody>\n",
       "    <tr>\n",
       "      <th>0</th>\n",
       "      <td>aminoglycoside N-acetyltransferase AAC(2')-I(A...</td>\n",
       "      <td>Pseudomonas aeruginosa</td>\n",
       "      <td>aminoglycoside N-acetyltransferase AAC(2')-I(A...</td>\n",
       "      <td>Pseudomonas aeruginosa PA38182 aac(2')-I(A267)</td>\n",
       "      <td>Pseudomonas aeruginosa PA38182</td>\n",
       "    </tr>\n",
       "    <tr>\n",
       "      <th>1</th>\n",
       "      <td>kasugamycin N-acetyltransferase AAC(2')-IIa</td>\n",
       "      <td>Pseudomonadota</td>\n",
       "      <td>kasugamycin N-acetyltransferase AAC(2')-IIa</td>\n",
       "      <td>Burkholderia glumae 5091 aac(2')-IIa</td>\n",
       "      <td>Burkholderia glumae</td>\n",
       "    </tr>\n",
       "    <tr>\n",
       "      <th>2</th>\n",
       "      <td>kasugamycin N-acetyltransferase AAC(2')-IIb</td>\n",
       "      <td>Paenibacillus sp. LC231</td>\n",
       "      <td>kasugamycin N-acetyltransferase AAC(2')-IIb</td>\n",
       "      <td>Paenibacillus sp. LC231 aac(2')-IIb</td>\n",
       "      <td>Paenibacillus sp. LC231</td>\n",
       "    </tr>\n",
       "    <tr>\n",
       "      <th>3</th>\n",
       "      <td>aminoglycoside N-acetyltransferase AAC(2')-Ia</td>\n",
       "      <td>Providencia</td>\n",
       "      <td>aminoglycoside N-acetyltransferase AAC(2')-Ia</td>\n",
       "      <td>Providencia stuartii aac(2')-Ia</td>\n",
       "      <td>Providencia stuartii</td>\n",
       "    </tr>\n",
       "    <tr>\n",
       "      <th>4</th>\n",
       "      <td>aminoglycoside N-acetyltransferase AAC(2')-Ib</td>\n",
       "      <td>Mycolicibacterium fortuitum</td>\n",
       "      <td>aminoglycoside N-acetyltransferase AAC(2')-Ib</td>\n",
       "      <td>Mycobacterium fortuitum FC1K aac(2')-Ib</td>\n",
       "      <td>Mycolicibacterium fortuitum</td>\n",
       "    </tr>\n",
       "  </tbody>\n",
       "</table>\n",
       "</div>"
      ],
      "text/plain": [
       "                                        product_name  \\\n",
       "0  aminoglycoside N-acetyltransferase AAC(2')-I(A...   \n",
       "1        kasugamycin N-acetyltransferase AAC(2')-IIa   \n",
       "2        kasugamycin N-acetyltransferase AAC(2')-IIb   \n",
       "3      aminoglycoside N-acetyltransferase AAC(2')-Ia   \n",
       "4      aminoglycoside N-acetyltransferase AAC(2')-Ib   \n",
       "\n",
       "                 _parent_taxon  \\\n",
       "0       Pseudomonas aeruginosa   \n",
       "1               Pseudomonadota   \n",
       "2      Paenibacillus sp. LC231   \n",
       "3                  Providencia   \n",
       "4  Mycolicibacterium fortuitum   \n",
       "\n",
       "                                            _protein  \\\n",
       "0  aminoglycoside N-acetyltransferase AAC(2')-I(A...   \n",
       "1        kasugamycin N-acetyltransferase AAC(2')-IIa   \n",
       "2        kasugamycin N-acetyltransferase AAC(2')-IIb   \n",
       "3      aminoglycoside N-acetyltransferase AAC(2')-Ia   \n",
       "4      aminoglycoside N-acetyltransferase AAC(2')-Ib   \n",
       "\n",
       "                                            _gene  \\\n",
       "0  Pseudomonas aeruginosa PA38182 aac(2')-I(A267)   \n",
       "1            Burkholderia glumae 5091 aac(2')-IIa   \n",
       "2             Paenibacillus sp. LC231 aac(2')-IIb   \n",
       "3                 Providencia stuartii aac(2')-Ia   \n",
       "4         Mycobacterium fortuitum FC1K aac(2')-Ib   \n",
       "\n",
       "                          _strain  \n",
       "0  Pseudomonas aeruginosa PA38182  \n",
       "1             Burkholderia glumae  \n",
       "2         Paenibacillus sp. LC231  \n",
       "3            Providencia stuartii  \n",
       "4     Mycolicibacterium fortuitum  "
      ]
     },
     "execution_count": 6,
     "metadata": {},
     "output_type": "execute_result"
    }
   ],
   "source": [
    "sample_df[[\"_parent_taxon\", \"_protein\"]] = sample_df.apply(get_protein_and_parent, axis=1)\n",
    "sample_df[[\"_gene\", \"_strain\"]] = sample_df.apply(get_strain_and_gene, axis=1)\n",
    "sample_df[[\"product_name\", \"_parent_taxon\", \"_protein\", \"_gene\", \"_strain\"]]"
   ]
  },
  {
   "cell_type": "markdown",
   "id": "6203d9a5-402e-4ebb-8735-0b2b3faa7334",
   "metadata": {
    "tags": []
   },
   "source": [
    "The gene looks a if it is corretly decoded \n",
    "\n",
    "Looking at the first sample_df-row it can be seen that the datafetcher works as expected. The parent taxon is Pseudomonas aeruginosa, which is included included in Wikidata (Q31856). The strain PA38182 is not included in Wikidata and could be added. Looking at the second sample-df row some issues can be observed. Pseudomonas is supposed to be the parent taxon which is only half correct as the family tree goes like: Bacteria -> Pseudomonadota -> Betaproteobacteria -> Burkholderiales -> Burkholderiaceae -> Burkholderia -> Burkholderia Glumae (parent_taxon, Q4999017). The strain is obivously Burkholderia Glumae 5091 which can only be oserved by looking at the gene. \n",
    "\n",
    "In addition to this when sampling random from the original database the likelihood of the bioserive_fetcher throwing Errors is very high, because the receivied data have very different formats and are thereby impossible to decode. This could maybe be resovled with complex decoding or excluding data. "
   ]
  },
  {
   "cell_type": "code",
   "execution_count": 74,
   "id": "3f08d665-bb59-4736-8995-3ade0eca1e07",
   "metadata": {
    "tags": []
   },
   "outputs": [],
   "source": [
    "# example of error throwing \n",
    "\n",
    "# sample_df = df.sample(5, random_state=3)\n",
    "# sample_df[[\"_gene\", \"_strain\"]] = sample_df.apply(get_strain_and_gene, axis=1)"
   ]
  },
  {
   "cell_type": "code",
   "execution_count": 148,
   "id": "d5950dba-588b-4137-8ced-2bb155d069df",
   "metadata": {
    "tags": []
   },
   "outputs": [
    {
     "data": {
      "text/html": [
       "<div>\n",
       "<style scoped>\n",
       "    .dataframe tbody tr th:only-of-type {\n",
       "        vertical-align: middle;\n",
       "    }\n",
       "\n",
       "    .dataframe tbody tr th {\n",
       "        vertical-align: top;\n",
       "    }\n",
       "\n",
       "    .dataframe thead th {\n",
       "        text-align: right;\n",
       "    }\n",
       "</style>\n",
       "<table border=\"1\" class=\"dataframe\">\n",
       "  <thead>\n",
       "    <tr style=\"text-align: right;\">\n",
       "      <th></th>\n",
       "      <th>product_name</th>\n",
       "      <th>_organism</th>\n",
       "      <th>_strain</th>\n",
       "    </tr>\n",
       "  </thead>\n",
       "  <tbody>\n",
       "    <tr>\n",
       "      <th>7235</th>\n",
       "      <td>sulfonamide-resistant dihydropteroate synthase...</td>\n",
       "      <td>Corynebacterium diphtheriae</td>\n",
       "      <td>NCTC13129</td>\n",
       "    </tr>\n",
       "    <tr>\n",
       "      <th>1591</th>\n",
       "      <td>class C beta-lactamase CMY-58</td>\n",
       "      <td>Escherichia coli</td>\n",
       "      <td>10158/10184</td>\n",
       "    </tr>\n",
       "    <tr>\n",
       "      <th>8240</th>\n",
       "      <td>elongation factor G</td>\n",
       "      <td>Staphylococcus aureus subsp. aureus Mu50</td>\n",
       "      <td>Mu50</td>\n",
       "    </tr>\n",
       "    <tr>\n",
       "      <th>4597</th>\n",
       "      <td>class A beta-lactamase PEN-A13</td>\n",
       "      <td>Burkholderia multivorans</td>\n",
       "      <td>AU23919</td>\n",
       "    </tr>\n",
       "    <tr>\n",
       "      <th>7471</th>\n",
       "      <td>tetracycline resistance ribosomal protection p...</td>\n",
       "      <td>Streptococcus pneumoniae</td>\n",
       "      <td></td>\n",
       "    </tr>\n",
       "  </tbody>\n",
       "</table>\n",
       "</div>"
      ],
      "text/plain": [
       "                                           product_name  \\\n",
       "7235  sulfonamide-resistant dihydropteroate synthase...   \n",
       "1591                      class C beta-lactamase CMY-58   \n",
       "8240                                elongation factor G   \n",
       "4597                     class A beta-lactamase PEN-A13   \n",
       "7471  tetracycline resistance ribosomal protection p...   \n",
       "\n",
       "                                     _organism      _strain  \n",
       "7235               Corynebacterium diphtheriae    NCTC13129  \n",
       "1591                          Escherichia coli  10158/10184  \n",
       "8240  Staphylococcus aureus subsp. aureus Mu50         Mu50  \n",
       "4597                  Burkholderia multivorans      AU23919  \n",
       "7471                  Streptococcus pneumoniae               "
      ]
     },
     "execution_count": 148,
     "metadata": {},
     "output_type": "execute_result"
    }
   ],
   "source": [
    "sample_df = df.sample(5)\n",
    "sample_df[[\"_organism\", \"_strain\"]] = sample_df.apply(get_organism_strain, axis=1)\n",
    "sample_df[[\"product_name\", \"_organism\", \"_strain\"]]"
   ]
  },
  {
   "cell_type": "code",
   "execution_count": 149,
   "id": "956f1a4f-65d8-4cea-9ce8-d2faceedbf09",
   "metadata": {
    "tags": []
   },
   "outputs": [
    {
     "data": {
      "text/html": [
       "<div>\n",
       "<style scoped>\n",
       "    .dataframe tbody tr th:only-of-type {\n",
       "        vertical-align: middle;\n",
       "    }\n",
       "\n",
       "    .dataframe tbody tr th {\n",
       "        vertical-align: top;\n",
       "    }\n",
       "\n",
       "    .dataframe thead th {\n",
       "        text-align: right;\n",
       "    }\n",
       "</style>\n",
       "<table border=\"1\" class=\"dataframe\">\n",
       "  <thead>\n",
       "    <tr style=\"text-align: right;\">\n",
       "      <th></th>\n",
       "      <th>product_name</th>\n",
       "      <th>strain</th>\n",
       "    </tr>\n",
       "  </thead>\n",
       "  <tbody>\n",
       "    <tr>\n",
       "      <th>7235</th>\n",
       "      <td>sulfonamide-resistant dihydropteroate synthase...</td>\n",
       "      <td>Corynebacterium diphtheriae NCTC13129</td>\n",
       "    </tr>\n",
       "    <tr>\n",
       "      <th>1591</th>\n",
       "      <td>class C beta-lactamase CMY-58</td>\n",
       "      <td>Escherichia coli 10158/10184</td>\n",
       "    </tr>\n",
       "    <tr>\n",
       "      <th>8240</th>\n",
       "      <td>elongation factor G</td>\n",
       "      <td>Staphylococcus aureus subsp. aureus Mu50</td>\n",
       "    </tr>\n",
       "    <tr>\n",
       "      <th>4597</th>\n",
       "      <td>class A beta-lactamase PEN-A13</td>\n",
       "      <td>Burkholderia multivorans AU23919</td>\n",
       "    </tr>\n",
       "    <tr>\n",
       "      <th>7471</th>\n",
       "      <td>tetracycline resistance ribosomal protection p...</td>\n",
       "      <td>Streptococcus pneumoniae</td>\n",
       "    </tr>\n",
       "  </tbody>\n",
       "</table>\n",
       "</div>"
      ],
      "text/plain": [
       "                                           product_name  \\\n",
       "7235  sulfonamide-resistant dihydropteroate synthase...   \n",
       "1591                      class C beta-lactamase CMY-58   \n",
       "8240                                elongation factor G   \n",
       "4597                     class A beta-lactamase PEN-A13   \n",
       "7471  tetracycline resistance ribosomal protection p...   \n",
       "\n",
       "                                        strain  \n",
       "7235     Corynebacterium diphtheriae NCTC13129  \n",
       "1591              Escherichia coli 10158/10184  \n",
       "8240  Staphylococcus aureus subsp. aureus Mu50  \n",
       "4597          Burkholderia multivorans AU23919  \n",
       "7471                  Streptococcus pneumoniae  "
      ]
     },
     "execution_count": 149,
     "metadata": {},
     "output_type": "execute_result"
    }
   ],
   "source": [
    "# combine _organism and _strain to strain to have same type\n",
    "dummy = sample_df.copy()\n",
    "dummy[\"strain\"] = np.where(dummy.apply(lambda x: x._strain in x._organism, axis=1), dummy[\"_organism\"], dummy._organism + \" \" + dummy._strain)\n",
    "dummy[[\"product_name\", \"strain\"]]"
   ]
  },
  {
   "cell_type": "markdown",
   "id": "296c701f-05b6-4600-a27e-f27dbf9030e0",
   "metadata": {},
   "source": [
    "## Search for connection to Wikidata"
   ]
  },
  {
   "cell_type": "code",
   "execution_count": 150,
   "id": "2527c9e3-e9db-4ddf-8dd0-b16d7f24c3d0",
   "metadata": {},
   "outputs": [],
   "source": [
    "from SPARQLWrapper import SPARQLWrapper, JSON\n",
    "\n",
    "sparql = SPARQLWrapper(\"https://query.wikidata.org/sparql\")"
   ]
  },
  {
   "cell_type": "code",
   "execution_count": 151,
   "id": "792350f6-ad93-4454-a15f-938e16d8c96a",
   "metadata": {},
   "outputs": [
    {
     "data": {
      "text/html": [
       "<div>\n",
       "<style scoped>\n",
       "    .dataframe tbody tr th:only-of-type {\n",
       "        vertical-align: middle;\n",
       "    }\n",
       "\n",
       "    .dataframe tbody tr th {\n",
       "        vertical-align: top;\n",
       "    }\n",
       "\n",
       "    .dataframe thead th {\n",
       "        text-align: right;\n",
       "    }\n",
       "</style>\n",
       "<table border=\"1\" class=\"dataframe\">\n",
       "  <thead>\n",
       "    <tr style=\"text-align: right;\">\n",
       "      <th></th>\n",
       "      <th>_organism</th>\n",
       "      <th>_strain</th>\n",
       "      <th>parent taxon</th>\n",
       "    </tr>\n",
       "  </thead>\n",
       "  <tbody>\n",
       "    <tr>\n",
       "      <th>7235</th>\n",
       "      <td>Corynebacterium diphtheriae</td>\n",
       "      <td>NCTC13129</td>\n",
       "      <td>http://www.wikidata.org/entity/Q131649</td>\n",
       "    </tr>\n",
       "    <tr>\n",
       "      <th>1591</th>\n",
       "      <td>Escherichia coli</td>\n",
       "      <td>10158/10184</td>\n",
       "      <td>None</td>\n",
       "    </tr>\n",
       "    <tr>\n",
       "      <th>8240</th>\n",
       "      <td>Staphylococcus aureus subsp. aureus Mu50</td>\n",
       "      <td>Mu50</td>\n",
       "      <td>http://www.wikidata.org/entity/Q188121</td>\n",
       "    </tr>\n",
       "    <tr>\n",
       "      <th>4597</th>\n",
       "      <td>Burkholderia multivorans</td>\n",
       "      <td>AU23919</td>\n",
       "      <td>http://www.wikidata.org/entity/Q4999018</td>\n",
       "    </tr>\n",
       "    <tr>\n",
       "      <th>7471</th>\n",
       "      <td>Streptococcus pneumoniae</td>\n",
       "      <td></td>\n",
       "      <td>http://www.wikidata.org/entity/Q221179</td>\n",
       "    </tr>\n",
       "  </tbody>\n",
       "</table>\n",
       "</div>"
      ],
      "text/plain": [
       "                                     _organism      _strain  \\\n",
       "7235               Corynebacterium diphtheriae    NCTC13129   \n",
       "1591                          Escherichia coli  10158/10184   \n",
       "8240  Staphylococcus aureus subsp. aureus Mu50         Mu50   \n",
       "4597                  Burkholderia multivorans      AU23919   \n",
       "7471                  Streptococcus pneumoniae                \n",
       "\n",
       "                                 parent taxon  \n",
       "7235   http://www.wikidata.org/entity/Q131649  \n",
       "1591                                     None  \n",
       "8240   http://www.wikidata.org/entity/Q188121  \n",
       "4597  http://www.wikidata.org/entity/Q4999018  \n",
       "7471   http://www.wikidata.org/entity/Q221179  "
      ]
     },
     "execution_count": 151,
     "metadata": {},
     "output_type": "execute_result"
    }
   ],
   "source": [
    "\n",
    "\n",
    "def search_parent_taxon(df_row: pd.Series) -> str:\n",
    "    \"\"\"\n",
    "    Searches in wikidata for a species of bacterium which matches the two first words of _organism\n",
    "    Sometime we have abbreviations for example Achromobacter sp. -- nobody knows if this is rather Achromobacter spanius or Achromobacter spiritinus -- This is all rather unusable\n",
    "    \"\"\"\n",
    "    parent = df_row._organism.split()[:2]\n",
    "    abbreviation = False\n",
    "    for i, word in enumerate(parent): \n",
    "        if word[-1] == \".\": \n",
    "            abbreviation = True\n",
    "            parent[i] = word[:-1]\n",
    "    parent = \" \".join(parent).lower()\n",
    "    query = f\"\"\"SELECT ?item ?itemLabel ?itemDescription\n",
    "    WHERE {{\n",
    "      ?item rdfs:label ?label;\n",
    "            schema:description \"species of bacterium\"@en.\n",
    "      \n",
    "      FILTER(LANG(?label) = \"en\" && CONTAINS(LCASE(?label), \"{parent}\"))\n",
    "      \n",
    "      SERVICE wikibase:label {{ bd:serviceParam wikibase:language \"[AUTO_LANGUAGE],en\". }}\n",
    "    }}\n",
    "    LIMIT 10\n",
    "    \"\"\"\n",
    "    sparql.setQuery(query)\n",
    "    sparql.setReturnFormat(JSON)\n",
    "    results = sparql.query().convert().get(\"results\").get(\"bindings\")\n",
    "    results = [(item.get(\"item\").get(\"value\"), item.get(\"itemLabel\").get(\"value\")) for item in results]\n",
    "    if abbreviation: \n",
    "        return [res[0] for res in results] if len(results) > 1 else results[0][0]\n",
    "    else: \n",
    "        for res in results: \n",
    "            if res[1].lower() in parent: \n",
    "                return res[0]\n",
    "\n",
    "dummy[\"parent taxon\"] = dummy.apply(search_parent_taxon, axis=1)\n",
    "dummy[[\"_organism\", \"_strain\", \"parent taxon\"]]"
   ]
  },
  {
   "cell_type": "code",
   "execution_count": 152,
   "id": "e7ec62ba-c5e6-4ca8-8f88-f447a91eb7fc",
   "metadata": {},
   "outputs": [
    {
     "data": {
      "text/plain": [
       "'http://www.wikidata.org/entity/Q188121'"
      ]
     },
     "execution_count": 152,
     "metadata": {},
     "output_type": "execute_result"
    }
   ],
   "source": [
    "dummy[\"parent taxon\"].iat[2]"
   ]
  },
  {
   "cell_type": "code",
   "execution_count": null,
   "id": "ad87fbec-626d-40a1-93f9-25ff9994cfc6",
   "metadata": {},
   "outputs": [],
   "source": []
  },
  {
   "cell_type": "code",
   "execution_count": null,
   "id": "a65eb325-6ed8-4182-a68e-9b9a257734a1",
   "metadata": {},
   "outputs": [],
   "source": []
  },
  {
   "cell_type": "code",
   "execution_count": null,
   "id": "8c493921-885c-43f1-b408-88c9729c6126",
   "metadata": {},
   "outputs": [],
   "source": []
  },
  {
   "cell_type": "code",
   "execution_count": null,
   "id": "dd766a73-bef8-4965-95aa-a9637101c886",
   "metadata": {},
   "outputs": [],
   "source": []
  },
  {
   "cell_type": "code",
   "execution_count": null,
   "id": "48176951-a2f2-49ad-97cf-531e2111a95a",
   "metadata": {},
   "outputs": [],
   "source": []
  },
  {
   "cell_type": "code",
   "execution_count": null,
   "id": "af7b3f22-bdb2-4a07-adab-a7791d5786f9",
   "metadata": {},
   "outputs": [],
   "source": [
    "# drop rows if _strain is empty and _organism has no numeric value in it -- expert knowledge required -- database shit \n",
    "\n",
    "dummy = dummy[np.logical_or(dummy[\"_strain\"].astype(bool), dummy[\"_organism\"].apply(lambda x: any(char.isdigit() for char in x)))]\n",
    "dummy"
   ]
  }
 ],
 "metadata": {
  "kernelspec": {
   "display_name": "lodkg",
   "language": "python",
   "name": "lodkg"
  },
  "language_info": {
   "codemirror_mode": {
    "name": "ipython",
    "version": 3
   },
   "file_extension": ".py",
   "mimetype": "text/x-python",
   "name": "python",
   "nbconvert_exporter": "python",
   "pygments_lexer": "ipython3",
   "version": "3.10.12"
  }
 },
 "nbformat": 4,
 "nbformat_minor": 5
}
