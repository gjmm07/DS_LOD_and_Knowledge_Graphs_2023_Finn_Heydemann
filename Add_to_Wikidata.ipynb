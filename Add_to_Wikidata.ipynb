{
 "cells": [
  {
   "cell_type": "code",
   "execution_count": 1,
   "id": "a9877a47-f25e-45c9-abeb-fa10c4a077db",
   "metadata": {},
   "outputs": [],
   "source": [
    "import pywikibot\n",
    "import pandas as pd "
   ]
  },
  {
   "cell_type": "code",
   "execution_count": 2,
   "id": "90d89d6b-4217-4ca0-90d6-000dc64658e4",
   "metadata": {},
   "outputs": [
    {
     "data": {
      "text/plain": [
       "Index(['allele', 'gene_family', 'whitelisted_taxa', 'product_name', 'scope',\n",
       "       'type', 'subtype', 'class', 'subclass', 'refseq_protein_accession',\n",
       "       'refseq_nucleotide_accession', 'curated_refseq_start',\n",
       "       'genbank_protein_accession', 'genbank_nucleotide_accession',\n",
       "       'genbank_strand', 'genbank_start', 'genbank_stop', 'refseq_strand',\n",
       "       'refseq_start', 'refseq_stop', 'pubmed_reference', 'blacklisted_taxa',\n",
       "       'synonyms', 'hierarchy_node', 'db_version', 'refseq_gene',\n",
       "       'refseq_protein', 'refseq_genome', 'refseq_organism', 'refseq_parent',\n",
       "       'rrefseq_protein', 'refseq_same_parent', 'genbank_organsim_nuc',\n",
       "       'genbank_strain_nuc', 'genbank_organsim_prot', 'genbank_strain_prot',\n",
       "       'strain', 'parent_taxon'],\n",
       "      dtype='object')"
      ]
     },
     "execution_count": 2,
     "metadata": {},
     "output_type": "execute_result"
    }
   ],
   "source": [
    "df = pd.read_csv(\"resistance_df2.csv\")\n",
    "df.keys()"
   ]
  },
  {
   "cell_type": "code",
   "execution_count": 3,
   "id": "891b8202-9330-4f5c-8a84-458b60961430",
   "metadata": {},
   "outputs": [
    {
     "name": "stdout",
     "output_type": "stream",
     "text": [
      "Pseudomonas aeruginosa PA38182\n",
      "parent taxon:http://www.wikidata.org/entity/Q31856\n",
      "Identifiers\n",
      "refseq_nucleotide_accession     NG_242157.1\n",
      "genbank_nucleotide_accession     HG530068.1\n",
      "Name: 0, dtype: object\n"
     ]
    }
   ],
   "source": [
    "# bacterial strain page \n",
    "print(df.at[0, \"strain\"])\n",
    "# desciption: bacterial strain \n",
    "# STATEMENTS\n",
    "# instance of strain Q855769\n",
    "# taxon name: df.at[0, \"strain\"]\n",
    "print(\"parent taxon:\" + df.at[0, \"parent_taxon\"])\n",
    "# IDENTIFIERS \n",
    "print(\"Identifiers\") \n",
    "print(df.loc[0, [\"refseq_nucleotide_accession\", \"genbank_nucleotide_accession\"]])"
   ]
  },
  {
   "cell_type": "code",
   "execution_count": 4,
   "id": "b88a656f-c3c6-4246-95b0-f42a6c29d018",
   "metadata": {},
   "outputs": [],
   "source": [
    "# Gene \n",
    "# microbial gene found in df.at[0, \"strain\"]\n",
    "# STATEMENTS \n",
    "# instance of gene \n",
    "# subclass of gene, protein_coding_gene \n",
    "# found in taxon <<new item>> df.at[0, \"strain\"]\n",
    "# encodes df.at[0, \"product_name\"]\n",
    "# genbank_start \n",
    "# genbank stop \n",
    "# IDENTIFIERS ??"
   ]
  },
  {
   "cell_type": "code",
   "execution_count": 5,
   "id": "2e906ce8-a240-4d82-9179-e1d9ccf54fd2",
   "metadata": {},
   "outputs": [],
   "source": [
    "# Protein \n",
    "# microbial protein found in df.at[0, \"strain\"]\n",
    "# STATEMENTS \n",
    "# instance of Q8054\n",
    "# subclass of Q8054\n",
    "# found in taxon df.at[0, \"strain\"]\n",
    "# encoded by <<new_item>> df.at[0, \"product_name\"] \n",
    "# IDENTIFIERS \n",
    "# df.at[0, \"refseq_protein\"]"
   ]
  },
  {
   "cell_type": "code",
   "execution_count": 6,
   "id": "6ad865d6-21a4-4a1a-885e-dfe588b83508",
   "metadata": {},
   "outputs": [
    {
     "name": "stderr",
     "output_type": "stream",
     "text": [
      "Sleeping for 19.3 seconds, 2024-02-23 11:05:47\n",
      "Sleeping for 19.1 seconds, 2024-02-23 11:06:07\n"
     ]
    },
    {
     "data": {
      "text/plain": [
       "'Q233760'"
      ]
     },
     "execution_count": 6,
     "metadata": {},
     "output_type": "execute_result"
    }
   ],
   "source": [
    "site = pywikibot.Site(\"test\", \"wikidata\")\n",
    "repo = site.data_repository()\n",
    "\n",
    "def wikidata_create_strain(): \n",
    "    new_item = pywikibot.ItemPage(site)\n",
    "    new_item.editLabels({\"en\": df.at[0, \"strain\"]})\n",
    "    new_item.editDescriptions({\"en\": \"bacterial strain\"})\n",
    "    return new_item\n",
    "\n",
    "new_item = wikidata_create_strain()\n",
    "new_item.getID()"
   ]
  },
  {
   "cell_type": "code",
   "execution_count": 8,
   "id": "d99864e6-e7da-40d7-907f-56965d27f5a1",
   "metadata": {
    "collapsed": true,
    "jupyter": {
     "outputs_hidden": true
    }
   },
   "outputs": [
    {
     "data": {
      "text/plain": [
       "['DATA_ATTRIBUTES',\n",
       " '__abstractmethods__',\n",
       " '__annotations__',\n",
       " '__class__',\n",
       " '__delattr__',\n",
       " '__dict__',\n",
       " '__dir__',\n",
       " '__doc__',\n",
       " '__eq__',\n",
       " '__format__',\n",
       " '__ge__',\n",
       " '__getattr__',\n",
       " '__getattribute__',\n",
       " '__gt__',\n",
       " '__hash__',\n",
       " '__init__',\n",
       " '__init_subclass__',\n",
       " '__le__',\n",
       " '__lt__',\n",
       " '__module__',\n",
       " '__ne__',\n",
       " '__new__',\n",
       " '__reduce__',\n",
       " '__reduce_ex__',\n",
       " '__repr__',\n",
       " '__setattr__',\n",
       " '__sizeof__',\n",
       " '__slots__',\n",
       " '__str__',\n",
       " '__subclasshook__',\n",
       " '__weakref__',\n",
       " '_abc_impl',\n",
       " '_cache_attrs',\n",
       " '_check_bot_may_edit',\n",
       " '_cmpkey',\n",
       " '_cosmetic_changes_hook',\n",
       " '_defined_by',\n",
       " '_getInternals',\n",
       " '_initialize_empty',\n",
       " '_latest_cached_revision',\n",
       " '_link',\n",
       " '_namespace',\n",
       " '_normalizeData',\n",
       " '_revid',\n",
       " '_revisions',\n",
       " '_save',\n",
       " 'addClaim',\n",
       " 'applicable_protections',\n",
       " 'autoFormat',\n",
       " 'backlinks',\n",
       " 'botMayEdit',\n",
       " 'categories',\n",
       " 'change_category',\n",
       " 'clear_cache',\n",
       " 'concept_uri',\n",
       " 'content_model',\n",
       " 'contributors',\n",
       " 'coordinates',\n",
       " 'create_short_link',\n",
       " 'data_item',\n",
       " 'data_repository',\n",
       " 'defaultsort',\n",
       " 'delete',\n",
       " 'depth',\n",
       " 'editAliases',\n",
       " 'editDescriptions',\n",
       " 'editEntity',\n",
       " 'editLabels',\n",
       " 'editTime',\n",
       " 'embeddedin',\n",
       " 'entity_type',\n",
       " 'exists',\n",
       " 'expand_text',\n",
       " 'extlinks',\n",
       " 'extract',\n",
       " 'fromPage',\n",
       " 'from_entity_uri',\n",
       " 'full_url',\n",
       " 'get',\n",
       " 'getCategoryRedirectTarget',\n",
       " 'getDeletedRevision',\n",
       " 'getID',\n",
       " 'getOldVersion',\n",
       " 'getRedirectTarget',\n",
       " 'getReferences',\n",
       " 'getSitelink',\n",
       " 'getVersionHistoryTable',\n",
       " 'get_data_for_new_entity',\n",
       " 'get_parsed_page',\n",
       " 'has_content',\n",
       " 'has_deleted_revisions',\n",
       " 'has_permission',\n",
       " 'id',\n",
       " 'image_repository',\n",
       " 'imagelinks',\n",
       " 'interwiki',\n",
       " 'isAutoTitle',\n",
       " 'isCategoryRedirect',\n",
       " 'isDisambig',\n",
       " 'isIpEdit',\n",
       " 'isRedirectPage',\n",
       " 'isStaticRedirect',\n",
       " 'isTalkPage',\n",
       " 'is_categorypage',\n",
       " 'is_filepage',\n",
       " 'is_flow_page',\n",
       " 'is_valid_id',\n",
       " 'iterlanglinks',\n",
       " 'iterlinks',\n",
       " 'itertemplates',\n",
       " 'langlinks',\n",
       " 'lastNonBotUser',\n",
       " 'latest_revision',\n",
       " 'latest_revision_id',\n",
       " 'linkedPages',\n",
       " 'loadDeletedRevisions',\n",
       " 'markDeletedRevision',\n",
       " 'mergeInto',\n",
       " 'merge_history',\n",
       " 'move',\n",
       " 'moved_target',\n",
       " 'namespace',\n",
       " 'oldest_revision',\n",
       " 'page_image',\n",
       " 'pageid',\n",
       " 'permalink',\n",
       " 'preloadText',\n",
       " 'properties',\n",
       " 'protect',\n",
       " 'protection',\n",
       " 'purge',\n",
       " 'put',\n",
       " 'redirects',\n",
       " 'removeClaims',\n",
       " 'removeSitelink',\n",
       " 'removeSitelinks',\n",
       " 'repo',\n",
       " 'revision_count',\n",
       " 'revisions',\n",
       " 'save',\n",
       " 'section',\n",
       " 'setSitelink',\n",
       " 'setSitelinks',\n",
       " 'set_redirect_target',\n",
       " 'site',\n",
       " 'templates',\n",
       " 'text',\n",
       " 'title',\n",
       " 'title_pattern',\n",
       " 'toJSON',\n",
       " 'toggleTalkPage',\n",
       " 'touch',\n",
       " 'undelete',\n",
       " 'userName',\n",
       " 'version',\n",
       " 'watch']"
      ]
     },
     "execution_count": 8,
     "metadata": {},
     "output_type": "execute_result"
    }
   ],
   "source": [
    "dir(new_item)"
   ]
  },
  {
   "cell_type": "code",
   "execution_count": 10,
   "id": "ef1cdf24-2cf9-4159-915b-af7f9e4c5567",
   "metadata": {},
   "outputs": [],
   "source": [
    "new_item.editAliases({\"en\": [\"12345\"]})"
   ]
  },
  {
   "cell_type": "code",
   "execution_count": null,
   "id": "ecf2a565-3941-465d-b036-21bf6f591b97",
   "metadata": {},
   "outputs": [],
   "source": [
    "def wikidata_add_statements(item):\n",
    "    # P95472 -- NCBI taxonmy ID\n",
    "    # external URL P64123\n",
    "    # string Property P64123\n",
    "    stringclaim = pywikibot.Claim(repo, u'P64123')\n",
    "    stringclaim.setTarget('www.startpage.de')\n",
    "    item.addClaim(stringclaim, summary=u'Adding a Genius artist ID')\n",
    "\n",
    "wikidata_add_statements(new_item)"
   ]
  },
  {
   "cell_type": "code",
   "execution_count": 70,
   "id": "caa4185c-2544-4b90-ab67-22569c358eb5",
   "metadata": {},
   "outputs": [
    {
     "name": "stdout",
     "output_type": "stream",
     "text": [
      "Q233643\n"
     ]
    }
   ],
   "source": [
    "def wikidata_add_claim(item): \n",
    "    \n",
    "    item_qualifier = item.getID()\n",
    "    print(item_qualifier)\n",
    "    claim = pywikibot.Claim(repo, u\"P2105\") # parent taxon \n",
    "    target = pywikibot.ItemPage(repo, u\"Q233636\")\n",
    "    claim.setTarget(target)\n",
    "    item.addClaim(claim, summary=u'Adding claim to Q233639')\n",
    "\n",
    "wikidata_add_claim(new_item)"
   ]
  },
  {
   "cell_type": "code",
   "execution_count": 13,
   "id": "a7ec92ed-c0ae-4745-af19-e793767fa4d8",
   "metadata": {},
   "outputs": [
    {
     "data": {
      "text/plain": [
       "ItemPage('Q233760')"
      ]
     },
     "execution_count": 13,
     "metadata": {},
     "output_type": "execute_result"
    }
   ],
   "source": [
    "new_item"
   ]
  },
  {
   "cell_type": "code",
   "execution_count": null,
   "id": "19c640e2-e32d-430a-8c89-9ff308ad2a9c",
   "metadata": {},
   "outputs": [],
   "source": []
  }
 ],
 "metadata": {
  "kernelspec": {
   "display_name": "lodkg",
   "language": "python",
   "name": "lodkg"
  },
  "language_info": {
   "codemirror_mode": {
    "name": "ipython",
    "version": 3
   },
   "file_extension": ".py",
   "mimetype": "text/x-python",
   "name": "python",
   "nbconvert_exporter": "python",
   "pygments_lexer": "ipython3",
   "version": "3.10.12"
  }
 },
 "nbformat": 4,
 "nbformat_minor": 5
}
